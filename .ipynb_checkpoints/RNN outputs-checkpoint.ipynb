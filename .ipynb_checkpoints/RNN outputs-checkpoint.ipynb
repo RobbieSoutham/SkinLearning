{
 "cells": [
  {
   "cell_type": "code",
   "execution_count": 9,
   "id": "e082ac5b",
   "metadata": {},
   "outputs": [],
   "source": [
    "import torch.nn as nn\n",
    "import torch.optim as optim\n",
    "from tqdm import tqdm\n",
    "import pandas as pd\n",
    "from torch import tensor\n",
    "import numpy as np\n",
    "from torch.utils.data import Dataset\n",
    "from sklearn.metrics import mean_squared_error\n",
    "import random\n",
    "import os\n",
    "import matplotlib.pyplot as plt\n",
    "#from numba import jit\n",
    "import pickle\n",
    "from scipy.interpolate import interp1d\n",
    "from torch.utils.data import DataLoader, random_split\n",
    "import torch\n",
    "from torchsummary import summary\n",
    "import seaborn as sns\n",
    "import sys\n",
    "import torch.nn.functional as F\n",
    "import pywt\n",
    "from sklearn.preprocessing import MinMaxScaler\n",
    "from torch.cuda import FloatTensor\n",
    "\n",
    "# Req for package\n",
    "sys.path.append(\"../\")\n",
    "from SkinLearning.Utils.NN import train, test, DEVICE\n",
    "from SkinLearning.Utils.Dataset import getDataset, getSplit\n",
    "\n",
    "\n",
    "torch.backends.cudnn.benchmark = True"
   ]
  },
  {
   "cell_type": "code",
   "execution_count": 10,
   "id": "3af1b2b8",
   "metadata": {},
   "outputs": [],
   "source": [
    "# Remove one FC LAyer\n",
    "class RNN_hidden(nn.Module):\n",
    "    def __init__(self):\n",
    "        super(RNN_hidden, self).__init__()\n",
    "        self.conv1 = nn.Conv1d(2, 128, kernel_size=5, padding=1, bias=False)\n",
    "        self.pool1 = nn.MaxPool1d(kernel_size=5, stride=2)\n",
    "        self.bn1 = nn.BatchNorm1d(128)\n",
    "        \n",
    "        self.conv2 = nn.Conv1d(128, 256, kernel_size=3, padding=1, bias=False)\n",
    "        self.pool2 = nn.MaxPool1d(kernel_size=2, stride=2)\n",
    "        self.bn2 = nn.BatchNorm1d(256)\n",
    "        \n",
    "        self.conv3 = nn.Conv1d(256, 512, kernel_size=3, padding=1, bias=False)\n",
    "        self.pool3 = nn.MaxPool1d(kernel_size=2, stride=2)\n",
    "        self.bn3 = nn.BatchNorm1d(512)\n",
    "        \n",
    "        self.rnn = nn.RNN(15, 256, batch_first=True)\n",
    "        \n",
    "        self.fc = nn.Sequential(\n",
    "            nn.Linear(256, 1024),\n",
    "            nn.Dropout(0.5),\n",
    "            nn.ReLU(),\n",
    "            nn.Linear(1024 , 512),\n",
    "            nn.ReLU(),\n",
    "            nn.Dropout(0.5),\n",
    "            nn.Linear(512, 6),   \n",
    "        )\n",
    "\n",
    "    def forward(self, x):\n",
    "        batch_size = x.shape[0]\n",
    "        x = self.pool1(torch.relu(self.bn1(self.conv1(x))))\n",
    "        x = self.pool2(torch.relu(self.bn2(self.conv2(x))))\n",
    "        x = self.pool3(torch.relu(self.bn3(self.conv3(x))))\n",
    "        \n",
    "        h0 = torch.zeros(1, batch_size, 256).to(x.device)\n",
    "        x, h = self.rnn(x, h0)\n",
    "        \n",
    "        x = h[-1].reshape(batch_size, -1)\n",
    "        x = self.fc(x)\n",
    "        \n",
    "        x = x.view(batch_size, 6)\n",
    "        return x"
   ]
  },
  {
   "cell_type": "code",
   "execution_count": 11,
   "id": "574133cc",
   "metadata": {},
   "outputs": [],
   "source": [
    "# Remove one FC LAyer\n",
    "class RNN_output(nn.Module):\n",
    "    def __init__(self):\n",
    "        super(RNN_output, self).__init__()\n",
    "        self.conv1 = nn.Conv1d(2, 128, kernel_size=5, padding=1, bias=False)\n",
    "        self.pool1 = nn.MaxPool1d(kernel_size=5, stride=2)\n",
    "        self.bn1 = nn.BatchNorm1d(128)\n",
    "        \n",
    "        self.conv2 = nn.Conv1d(128, 256, kernel_size=3, padding=1, bias=False)\n",
    "        self.pool2 = nn.MaxPool1d(kernel_size=2, stride=2)\n",
    "        self.bn2 = nn.BatchNorm1d(256)\n",
    "        \n",
    "        self.conv3 = nn.Conv1d(256, 512, kernel_size=3, padding=1, bias=False)\n",
    "        self.pool3 = nn.MaxPool1d(kernel_size=2, stride=2)\n",
    "        self.bn3 = nn.BatchNorm1d(512)\n",
    "        \n",
    "        self.rnn = nn.RNN(15, 256, batch_first=True)\n",
    "        \n",
    "        self.fc = nn.Sequential(\n",
    "            nn.Linear(256, 1024),\n",
    "            nn.Dropout(0.5),\n",
    "            nn.ReLU(),\n",
    "            nn.Linear(1024 , 512),\n",
    "            nn.ReLU(),\n",
    "            nn.Dropout(0.5),\n",
    "            nn.Linear(512, 6),   \n",
    "        )\n",
    "\n",
    "    def forward(self, x):\n",
    "        batch_size = x.shape[0]\n",
    "        x = self.pool1(torch.relu(self.bn1(self.conv1(x))))\n",
    "        x = self.pool2(torch.relu(self.bn2(self.conv2(x))))\n",
    "        x = self.pool3(torch.relu(self.bn3(self.conv3(x))))\n",
    "        \n",
    "        h0 = torch.zeros(1, batch_size, 256).to(x.device)\n",
    "        x, h = self.rnn(x, h0)\n",
    "        \n",
    "        x = h[-1].reshape(batch_size, -1)\n",
    "        x = self.fc(x)\n",
    "        \n",
    "        x = x.view(batch_size, 6)\n",
    "        return x"
   ]
  },
  {
   "cell_type": "code",
   "execution_count": 12,
   "id": "cb571912",
   "metadata": {},
   "outputs": [
    {
     "ename": "FileNotFoundError",
     "evalue": "[Errno 2] No such file or directory: '../Data/filtered.pkl'",
     "output_type": "error",
     "traceback": [
      "\u001b[1;31m---------------------------------------------------------------------------\u001b[0m",
      "\u001b[1;31mFileNotFoundError\u001b[0m                         Traceback (most recent call last)",
      "Input \u001b[1;32mIn [12]\u001b[0m, in \u001b[0;36m<cell line: 1>\u001b[1;34m()\u001b[0m\n\u001b[1;32m----> 1\u001b[0m dataset, scaler \u001b[38;5;241m=\u001b[39m \u001b[43mgetDataset\u001b[49m\u001b[43m(\u001b[49m\u001b[43m)\u001b[49m\n",
      "File \u001b[1;32m~\\Documents\\MastersDiss\\SkinLearning\\Utils\\Dataset.py:16\u001b[0m, in \u001b[0;36mgetDataset\u001b[1;34m(**kwargs)\u001b[0m\n\u001b[0;32m     13\u001b[0m \u001b[38;5;28;01mdef\u001b[39;00m \u001b[38;5;21mgetDataset\u001b[39m(\u001b[38;5;241m*\u001b[39m\u001b[38;5;241m*\u001b[39mkwargs):\n\u001b[0;32m     14\u001b[0m     \u001b[38;5;66;03m# Get filtered data\u001b[39;00m\n\u001b[0;32m     15\u001b[0m     \u001b[38;5;28;01mif\u001b[39;00m \u001b[38;5;129;01mnot\u001b[39;00m \u001b[38;5;124m'\u001b[39m\u001b[38;5;124mruns\u001b[39m\u001b[38;5;124m'\u001b[39m \u001b[38;5;129;01min\u001b[39;00m kwargs\u001b[38;5;241m.\u001b[39mkeys():\n\u001b[1;32m---> 16\u001b[0m         \u001b[38;5;28;01mwith\u001b[39;00m \u001b[38;5;28;43mopen\u001b[39;49m\u001b[43m(\u001b[49m\u001b[38;5;124;43m\"\u001b[39;49m\u001b[38;5;124;43m../Data/filtered.pkl\u001b[39;49m\u001b[38;5;124;43m\"\u001b[39;49m\u001b[43m,\u001b[49m\u001b[43m \u001b[49m\u001b[38;5;124;43m\"\u001b[39;49m\u001b[38;5;124;43mrb\u001b[39;49m\u001b[38;5;124;43m\"\u001b[39;49m\u001b[43m)\u001b[49m \u001b[38;5;28;01mas\u001b[39;00m f:\n\u001b[0;32m     17\u001b[0m             runs \u001b[38;5;241m=\u001b[39m pickle\u001b[38;5;241m.\u001b[39mload(f)\n\u001b[0;32m     19\u001b[0m         kwargs[\u001b[38;5;124m'\u001b[39m\u001b[38;5;124mruns\u001b[39m\u001b[38;5;124m'\u001b[39m] \u001b[38;5;241m=\u001b[39m runs\n",
      "\u001b[1;31mFileNotFoundError\u001b[0m: [Errno 2] No such file or directory: '../Data/filtered.pkl'"
     ]
    }
   ],
   "source": [
    "dataset, scaler = getDataset()"
   ]
  },
  {
   "cell_type": "code",
   "execution_count": 13,
   "id": "f842b3be",
   "metadata": {},
   "outputs": [
    {
     "ename": "NameError",
     "evalue": "name 'dataset' is not defined",
     "output_type": "error",
     "traceback": [
      "\u001b[1;31m---------------------------------------------------------------------------\u001b[0m",
      "\u001b[1;31mNameError\u001b[0m                                 Traceback (most recent call last)",
      "Input \u001b[1;32mIn [13]\u001b[0m, in \u001b[0;36m<cell line: 1>\u001b[1;34m()\u001b[0m\n\u001b[1;32m----> 1\u001b[0m train_loader, test_loader \u001b[38;5;241m=\u001b[39m getSplit(\u001b[43mdataset\u001b[49m)\n",
      "\u001b[1;31mNameError\u001b[0m: name 'dataset' is not defined"
     ]
    }
   ],
   "source": [
    "train_loader, test_loader = getSplit(dataset)"
   ]
  },
  {
   "cell_type": "code",
   "execution_count": 14,
   "id": "5f9c6153",
   "metadata": {},
   "outputs": [
    {
     "name": "stdout",
     "output_type": "stream",
     "text": [
      " Volume in drive C has no label.\n",
      " Volume Serial Number is 98B6-F618\n",
      "\n",
      " Directory of C:\\Users\\rjsou\\Documents\\MastersDiss\n",
      "\n",
      "19/03/2023  16:54    <DIR>          .\n",
      "19/03/2023  16:54    <DIR>          ..\n",
      "16/03/2023  11:27               270 .gitignore\n",
      "19/03/2023  16:52    <DIR>          .ipynb_checkpoints\n",
      "10/03/2023  20:21    <DIR>          Data\n",
      "26/01/2023  19:35               112 notebook.bat\n",
      "19/03/2023  16:53    <DIR>          Notebooks\n",
      "10/03/2023  19:34               198 pyproject.toml\n",
      "14/03/2023  15:07               134 README.md\n",
      "29/01/2023  14:34                58 requirements.txt\n",
      "13/03/2023  19:52    <DIR>          Results\n",
      "19/03/2023  16:54             5,761 RNN outputs.ipynb\n",
      "13/03/2023  18:53               452 setup.cfg\n",
      "13/03/2023  18:53               279 setup.py\n",
      "13/03/2023  18:51    <DIR>          SkinLearning\n",
      "16/03/2023  19:12    <DIR>          SkinLearning.egg-info\n",
      "14/03/2023  15:03    <DIR>          Utils\n",
      "04/02/2023  18:50    <DIR>          venv\n",
      "14/03/2023  15:05    <DIR>          Vis\n",
      "               8 File(s)          7,264 bytes\n",
      "              11 Dir(s)  10,080,067,584 bytes free\n"
     ]
    }
   ],
   "source": [
    "!dir"
   ]
  }
 ],
 "metadata": {
  "kernelspec": {
   "display_name": "Python 3 (ipykernel)",
   "language": "python",
   "name": "python3"
  },
  "language_info": {
   "codemirror_mode": {
    "name": "ipython",
    "version": 3
   },
   "file_extension": ".py",
   "mimetype": "text/x-python",
   "name": "python",
   "nbconvert_exporter": "python",
   "pygments_lexer": "ipython3",
   "version": "3.10.9"
  }
 },
 "nbformat": 4,
 "nbformat_minor": 5
}
